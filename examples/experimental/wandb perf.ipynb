{
 "cells": [
  {
   "cell_type": "code",
   "execution_count": null,
   "id": "bcd8818e",
   "metadata": {},
   "outputs": [],
   "source": [
    "# Test performance on production W&B UI style queries.\n",
    "\n",
    "import cProfile\n",
    "import weave\n",
    "weave.use_fixed_server_port()\n",
    "import os"
   ]
  },
  {
   "cell_type": "code",
   "execution_count": null,
   "id": "29acd0bf",
   "metadata": {},
   "outputs": [],
   "source": [
    "# An artifact page table query. There are various sized tables in this project at different versions.\n",
    "\n",
    "x = (\n",
    "    weave.ops.project(\"shawn\", \"dsviz-simple-tables\")\n",
    "    .artifact(\"simple_tables\")\n",
    "    .membershipForAlias(\"v5\")\n",
    "    .artifactVersion()\n",
    "    .file(\"my-table.table.json\")\n",
    "    .table()\n",
    "    .rows()\n",
    "    .createIndexCheckpointTag()\n",
    "    .groupby(lambda row: weave.ops.dict_(x=row[\"x\"]))[0]['c']\n",
    "#     .sort(lambda group: weave.ops.list(a=group.groupkey()[\"x\"]), [\"asc\"])[0][\"c\"]\n",
    ")"
   ]
  },
  {
   "cell_type": "code",
   "execution_count": null,
   "id": "49edeedb",
   "metadata": {},
   "outputs": [],
   "source": [
    "# A run page concat query. There is also log-tables-200k-100.\n",
    "\n",
    "x = (weave.ops.project(\"shawn\", \"log-tables-10k-20\")\n",
    "  .filteredRuns(\"{\\\"name\\\":{\\\"$ne\\\":null}}\", \"-createdAt\")\n",
    "  .limit(50)\n",
    "  .summary()['tab1']\n",
    "  .table()\n",
    "  .rows()\n",
    "  .dropna()\n",
    "  .concat()\n",
    "  .createIndexCheckpointTag()\n",
    "  [0]['config']['key0'])"
   ]
  },
  {
   "cell_type": "code",
   "execution_count": null,
   "id": "1e5407b6",
   "metadata": {},
   "outputs": [],
   "source": [
    "weave.use(x)"
   ]
  },
  {
   "cell_type": "code",
   "execution_count": null,
   "id": "45093b67",
   "metadata": {},
   "outputs": [],
   "source": [
    "# same as above but run in profiler\n",
    "\n",
    "cProfile.run(\n",
    "\"\"\"\n",
    "x = (\n",
    "    weave.ops.project(\"shawn\", \"dsviz-simple-tables\")\n",
    "    .artifact(\"simple_tables\")\n",
    "    .membershipForAlias(\"v5\")\n",
    "    .artifactVersion()\n",
    "    .file(\"my-table.table.json\")\n",
    "    .table()\n",
    "    .rows()\n",
    "    .createIndexCheckpointTag()\n",
    "    .groupby(lambda row: weave.ops.dict_(x=row[\"x\"]))[0]['c']\n",
    "#     .sort(lambda group: weave.ops.list(a=group.groupkey()[\"x\"]), [\"asc\"])[0][\"c\"]\n",
    ")\n",
    "\"\"\", 'profile_stats'\n",
    ")"
   ]
  },
  {
   "cell_type": "code",
   "execution_count": null,
   "id": "649db7ce",
   "metadata": {},
   "outputs": [],
   "source": [
    "# inspect saved profile data\n",
    "\n",
    "import pstats\n",
    "from pstats import SortKey\n",
    "p = pstats.Stats('profile_stats')\n",
    "p.strip_dirs().sort_stats(SortKey.CUMULATIVE).print_stats()\n",
    "#p.strip_dirs().sort_stats(SortKey.CUMULATIVE).print_callers('type_of')\n",
    "#p.strip_dirs().sort_stats(SortKey.TIME).print_stats()"
   ]
  }
 ],
 "metadata": {
  "kernelspec": {
   "display_name": "Python 3 (ipykernel)",
   "language": "python",
   "name": "python3"
  },
  "language_info": {
   "codemirror_mode": {
    "name": "ipython",
    "version": 3
   },
   "file_extension": ".py",
   "mimetype": "text/x-python",
   "name": "python",
   "nbconvert_exporter": "python",
   "pygments_lexer": "ipython3",
   "version": "3.9.7"
  }
 },
 "nbformat": 4,
 "nbformat_minor": 5
}
