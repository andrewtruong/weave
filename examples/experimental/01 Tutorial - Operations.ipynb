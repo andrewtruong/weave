{
 "cells": [
  {
   "cell_type": "code",
   "execution_count": null,
   "id": "4b7c5f3c",
   "metadata": {},
   "outputs": [],
   "source": [
    "import weave"
   ]
  },
  {
   "cell_type": "code",
   "execution_count": null,
   "id": "244893e4",
   "metadata": {},
   "outputs": [],
   "source": [
    "# Create a weave object and give it a name\n",
    "\n",
    "x = weave.save(21, name='my-input')\n",
    "print(x)"
   ]
  },
  {
   "cell_type": "code",
   "execution_count": null,
   "id": "1b77a7ef",
   "metadata": {},
   "outputs": [],
   "source": [
    "# You can do expressions on Weave objects, using operations.\n",
    "r = x * 20 + 40\n",
    "\n",
    "# Weave keeps track of values were computed, and is lazy by default.\n",
    "print(r)"
   ]
  },
  {
   "cell_type": "code",
   "execution_count": null,
   "id": "622b2cc2",
   "metadata": {},
   "outputs": [],
   "source": [
    "# To get a value, call weave.use(), or display it like this\n",
    "r"
   ]
  },
  {
   "cell_type": "code",
   "execution_count": null,
   "id": "b5093f50",
   "metadata": {},
   "outputs": [],
   "source": [
    "# We can give a value a name by saving it.\n",
    "# Here you can call weave.use() or display saved_r if you want. It will show the same output as the cell above.\n",
    "saved_r = weave.save(r, name='result')\n",
    "print(saved_r)"
   ]
  },
  {
   "cell_type": "code",
   "execution_count": null,
   "id": "17684663",
   "metadata": {},
   "outputs": [],
   "source": [
    "# We can see the history of how a given value was computed by inspecting its versions.\n",
    "for version in weave.versions(saved_r):\n",
    "    print(weave.expr(version))"
   ]
  }
 ],
 "metadata": {
  "kernelspec": {
   "display_name": "Python 3 (ipykernel)",
   "language": "python",
   "name": "python3"
  },
  "language_info": {
   "codemirror_mode": {
    "name": "ipython",
    "version": 3
   },
   "file_extension": ".py",
   "mimetype": "text/x-python",
   "name": "python",
   "nbconvert_exporter": "python",
   "pygments_lexer": "ipython3",
   "version": "3.9.7"
  }
 },
 "nbformat": 4,
 "nbformat_minor": 5
}
